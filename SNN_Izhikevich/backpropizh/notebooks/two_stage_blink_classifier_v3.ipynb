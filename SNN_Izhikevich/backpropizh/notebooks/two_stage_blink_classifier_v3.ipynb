{
 "cells": [
  {
   "cell_type": "markdown",
   "id": "a8684fbb",
   "metadata": {},
   "source": [
    "# Two‑Stage Blink Classifier\n",
    "Skeleton notebook created 2025-05-15 14:07:12.703580"
   ]
  },
  {
   "cell_type": "markdown",
   "id": "c03a7726",
   "metadata": {},
   "source": [
    "### Imports"
   ]
  },
  {
   "cell_type": "code",
   "execution_count": 1,
   "id": "8c3bcf6e",
   "metadata": {},
   "outputs": [
    {
     "name": "stdout",
     "output_type": "stream",
     "text": [
      "device = cpu\n"
     ]
    }
   ],
   "source": [
    "import numpy as np, pandas as pd, torch\n",
    "from torch.utils.data import Dataset, DataLoader, random_split, WeightedRandomSampler\n",
    "import snntorch as snn\n",
    "from snntorch import utils\n",
    "from sklearn.metrics import classification_report\n",
    "device = torch.device(\"cuda\" if torch.cuda.is_available() else \"cpu\")\n",
    "\n",
    "import torch\n",
    "import torchdata\n",
    "import torch.nn as nn\n",
    "import torch.nn.functional as F\n",
    "from torchvision import datasets, transforms\n",
    "from torch.utils.data import random_split\n",
    "from torch.utils.data import DataLoader\n",
    "from torch.optim.lr_scheduler import ReduceLROnPlateau\n",
    "from torch.utils.data import DataLoader, Subset\n",
    "from torch.optim.lr_scheduler import ReduceLROnPlateau\n",
    "print(\"device =\", device)\n",
    "\n",
    "import random\n",
    "\n",
    "SEED = 42\n",
    "random.seed(SEED)\n",
    "np.random.seed(SEED)\n",
    "torch.manual_seed(SEED)\n",
    "torch.cuda.manual_seed(SEED)\n",
    "torch.cuda.manual_seed_all(SEED)\n",
    "torch.backends.cudnn.deterministic = True\n",
    "torch.backends.cudnn.benchmark     = False\n",
    "\n",
    "import brevitas\n",
    "import brevitas.nn as qnn\n"
   ]
  },
  {
   "cell_type": "markdown",
   "id": "2b2aa8b4",
   "metadata": {},
   "source": [
    "### Parameters"
   ]
  },
  {
   "cell_type": "code",
   "execution_count": 2,
   "id": "26048a46",
   "metadata": {},
   "outputs": [],
   "source": [
    "import numpy as np, pandas as pd, torch, snntorch as snn\n",
    "from torch.utils.data import Dataset, DataLoader, WeightedRandomSampler\n",
    "from snntorch import surrogate, utils\n",
    "from sklearn.metrics import classification_report\n",
    "device = torch.device(\"cuda\" if torch.cuda.is_available() else \"cpu\")\n",
    "\n",
    "CSV              = \"./data/DM_OUT_S14_50s-90s.csv\"\n",
    "SAMPLING_RATE_HZ = 256\n",
    "WIN_MS           = 200                               # 200-ms windows\n",
    "WIN              = int(WIN_MS/1000 * SAMPLING_RATE_HZ) #51.2 samples\n",
    "STRIDE           = WIN//4                            # 75 % overlap\n",
    "THR_VOLT         = 1.7                               # spike threshold\n",
    "BATCH            = 32\n",
    "EPOCHS           = 40\n",
    "LR               = 1e-4\n",
    "THRESH_PROB      = 0.30                              # decision cut-off"
   ]
  },
  {
   "cell_type": "code",
   "execution_count": 3,
   "id": "d88207c0",
   "metadata": {},
   "outputs": [
    {
     "ename": "NameError",
     "evalue": "name 'endpoint' is not defined",
     "output_type": "error",
     "traceback": [
      "\u001b[31m---------------------------------------------------------------------------\u001b[39m",
      "\u001b[31mNameError\u001b[39m                                 Traceback (most recent call last)",
      "\u001b[36mCell\u001b[39m\u001b[36m \u001b[39m\u001b[32mIn[3]\u001b[39m\u001b[32m, line 7\u001b[39m\n\u001b[32m      5\u001b[39m multiplier = \u001b[32m1\u001b[39m\n\u001b[32m      6\u001b[39m end = \u001b[32m100\u001b[39m * multiplier\n\u001b[32m----> \u001b[39m\u001b[32m7\u001b[39m t = np.arange(\u001b[43mendpoint\u001b[49m)/\u001b[32m256\u001b[39m     \u001b[38;5;66;03m# first 2 000 samples\u001b[39;00m\n\u001b[32m      8\u001b[39m df = pd.read_csv(CSV)\n\u001b[32m      9\u001b[39m plt.plot(t, df[\u001b[33m\"\u001b[39m\u001b[33m/spk_up Y\u001b[39m\u001b[33m\"\u001b[39m].iloc[:endpoint], label=\u001b[33m\"\u001b[39m\u001b[33mup\u001b[39m\u001b[33m\"\u001b[39m)\n",
      "\u001b[31mNameError\u001b[39m: name 'endpoint' is not defined"
     ]
    }
   ],
   "source": [
    "import matplotlib.pyplot as plt\n",
    "import numpy as np\n",
    "\n",
    "start = 0\n",
    "multiplier = 1\n",
    "end = 100 * multiplier\n",
    "t = np.arange(endpoint)/256     # first 2 000 samples\n",
    "df = pd.read_csv(CSV)\n",
    "plt.plot(t, df[\"/spk_up Y\"].iloc[:endpoint], label=\"up\")\n",
    "plt.plot(t, df[\"/spk_down Y\"].iloc[:endpoint], label=\"down\")\n",
    "plt.plot(t, df[\"/label Y\"].iloc[:endpoint], label=\"label\")\n",
    "plt.legend(); plt.show()\n",
    "thr = 1.7\n",
    "# positive spikes  → likely *hard*\n",
    "spk_up_pos   = (df[\"/spk_up Y\"]   >  thr).astype(np.float32)\n",
    "spk_down_neg = (df[\"/spk_down Y\"] > thr).astype(np.float32)\n",
    "# everything else is zero\n",
    "win_hard = spk_up_pos[start:end].any()        # 1 if hard blink\n",
    "win_soft = spk_down_neg[start:end].any()      # 1 if soft blink\n",
    "blink = [(spk_up_pos[s:s+WIN_MS].any() or spk_down_neg[s:s+WIN_MS].any()) \n",
    "\t\t for s in range(0, len(spk_up_pos) - WIN_MS, STRIDE)]\n",
    "cnt_hard = [spk_up_pos[s:s+WIN_MS].sum() for s in range(0, len(spk_up_pos) - WIN_MS, STRIDE)]\n",
    "cnt_soft = [spk_down_neg[s:s+WIN_MS].sum() for s in range(0, len(spk_down_neg) - WIN_MS, STRIDE)]\n",
    "\n",
    "print(\"mean hard-spikes (blink windows):\", np.mean([c for c, t in zip(cnt_hard, blink) if t]))\n",
    "print(\"mean hard-spikes (no-blink)    :\", np.mean([c for c, t in zip(cnt_hard, blink) if not t]))"
   ]
  },
  {
   "cell_type": "markdown",
   "id": "1a2ee467",
   "metadata": {},
   "source": [
    "### Window Extraction"
   ]
  },
  {
   "cell_type": "code",
   "execution_count": null,
   "id": "15618d5b",
   "metadata": {},
   "outputs": [],
   "source": [
    "df  = pd.read_csv(CSV)\n",
    "up  = (df[\"/spk_up Y\"].abs()   > THR_VOLT).astype(np.float32).to_numpy()\n",
    "dn  = (df[\"/spk_down Y\"].abs() > THR_VOLT).astype(np.float32).to_numpy()\n",
    "lab = df[\"/label Y\"].to_numpy()                 # 0 | 1 | 2\n",
    "# LABEL_MARGIN = int(0.1 * SAMPLING_RATE_HZ)\n",
    "LABEL_MARGIN = WIN\n",
    "X, y = [], []\n",
    "for s in range(0, len(df)-WIN+1, STRIDE):\n",
    "    e = s + WIN\n",
    "\n",
    "    # spike raster [T,2]  (0/1)\n",
    "    x_win = np.stack([up[s:e], dn[s:e]], axis=1)\n",
    "    \n",
    "    # --------------------------- target  ---------------------------\n",
    "    # extend slice by ±LABEL_MARGIN but stay in bounds\n",
    "    ls = max(0, s - LABEL_MARGIN)\n",
    "    le = min(len(df), e + LABEL_MARGIN)\n",
    "    lab_max = lab[ls:le].max()\n",
    "    if   lab_max == 2: y.append([1, 0])      # soft\n",
    "    elif lab_max == 1: y.append([0, 1])      # hard\n",
    "    else:              y.append([0, 0])      # no-blink\n",
    "\n",
    "    X.append(x_win.astype(np.float32))\n",
    "    # --------------------------- target  ---------------------------\n",
    "X = torch.tensor(np.stack(X))         # [N,T,2]\n",
    "y = torch.tensor(np.stack(y))         # [N,2]\n",
    "print(\"windows:\", len(X),\n",
    "      \"| soft:\", int(y[:,0].sum()),\n",
    "      \"| hard:\", int(y[:,1].sum()))"
   ]
  },
  {
   "cell_type": "code",
   "execution_count": null,
   "id": "1f78a178",
   "metadata": {},
   "outputs": [
    {
     "name": "stdout",
     "output_type": "stream",
     "text": [
      "[0.0, 0.0] 2\n",
      "[0.0, 0.0] 2\n",
      "[0.0, 0.0] 2\n",
      "[0.0, 0.0] 2\n",
      "[2.0, 0.0] 2\n",
      "[2.0, 0.0] 2\n",
      "[2.0, 0.0] 2\n",
      "[2.0, 0.0] 2\n",
      "[0.0, 0.0] 2\n",
      "[0.0, 0.0] 2\n",
      "[0.0, 0.0] 2\n",
      "[0.0, 0.0] 2\n",
      "[0.0, 0.0] 2\n",
      "[0.0, 0.0] 2\n",
      "[0.0, 0.0] 2\n",
      "[0.0, 0.0] 2\n",
      "[0.0, 0.0] 2\n",
      "[0.0, 0.0] 2\n",
      "[0.0, 0.0] 2\n",
      "[0.0, 1.0] 2\n",
      "[0.0, 1.0] 2\n",
      "[0.0, 1.0] 2\n",
      "[0.0, 1.0] 2\n",
      "[0.0, 0.0] 2\n",
      "[0.0, 0.0] 0\n",
      "[0.0, 0.0] 0\n",
      "[0.0, 0.0] 0\n",
      "[0.0, 0.0] 0\n",
      "[0.0, 0.0] 0\n",
      "[1.0, 0.0] 0\n",
      "[1.0, 0.0] 0\n",
      "[1.0, 2.0] 0\n",
      "[1.0, 2.0] 0\n",
      "[0.0, 2.0] 0\n",
      "[0.0, 2.0] 0\n",
      "[0.0, 1.0] 0\n",
      "[0.0, 0.0] 0\n",
      "[0.0, 0.0] 2\n",
      "[0.0, 0.0] 2\n",
      "[0.0, 0.0] 2\n",
      "[0.0, 0.0] 1\n",
      "[0.0, 0.0] 1\n",
      "[0.0, 0.0] 1\n",
      "[3.0, 0.0] 1\n",
      "[5.0, 0.0] 1\n",
      "[5.0, 0.0] 1\n",
      "[5.0, 2.0] 1\n",
      "[3.0, 6.0] 1\n",
      "[0.0, 8.0] 1\n",
      "[0.0, 9.0] 1\n",
      "[0.0, 8.0] 1\n",
      "[0.0, 4.0] 1\n",
      "[0.0, 1.0] 1\n",
      "[2.0, 0.0] 2\n",
      "[2.0, 0.0] 2\n",
      "[2.0, 0.0] 2\n",
      "[3.0, 0.0] 2\n",
      "[1.0, 0.0] 2\n",
      "[1.0, 0.0] 2\n",
      "[1.0, 0.0] 2\n",
      "[0.0, 0.0] 2\n",
      "[0.0, 0.0] 2\n",
      "[0.0, 0.0] 2\n",
      "[0.0, 0.0] 2\n",
      "[0.0, 0.0] 2\n",
      "[0.0, 0.0] 2\n",
      "[0.0, 0.0] 2\n",
      "[0.0, 0.0] 2\n",
      "[0.0, 1.0] 2\n",
      "[0.0, 1.0] 2\n",
      "[0.0, 1.0] 2\n",
      "[0.0, 1.0] 2\n",
      "[0.0, 1.0] 2\n",
      "[0.0, 0.0] 2\n",
      "[0.0, 0.0] 2\n",
      "[0.0, 0.0] 2\n",
      "[0.0, 1.0] 2\n",
      "[0.0, 1.0] 2\n",
      "[0.0, 1.0] 2\n",
      "[0.0, 1.0] 2\n",
      "[0.0, 1.0] 2\n",
      "[0.0, 0.0] 2\n",
      "[0.0, 0.0] 2\n",
      "[0.0, 0.0] 2\n",
      "[0.0, 0.0] 2\n",
      "[0.0, 0.0] 2\n",
      "[0.0, 0.0] 2\n",
      "[0.0, 0.0] 2\n",
      "[0.0, 0.0] 2\n",
      "[0.0, 0.0] 2\n",
      "[0.0, 0.0] 2\n",
      "[0.0, 0.0] 2\n",
      "[0.0, 0.0] 2\n",
      "[0.0, 0.0] 2\n",
      "[0.0, 0.0] 2\n",
      "[0.0, 0.0] 2\n",
      "[0.0, 2.0] 2\n",
      "[0.0, 2.0] 2\n",
      "[0.0, 2.0] 2\n",
      "[0.0, 2.0] 2\n"
     ]
    },
    {
     "data": {
      "image/png": "[encoded data removed]",
      "text/plain": [
       "<Figure size 1200x800 with 2 Axes>"
      ]
     },
     "metadata": {},
     "output_type": "display_data"
    }
   ],
   "source": [
    "RANGE = 100\n",
    "\n",
    "for i in range(0, RANGE):\n",
    "    X[i].sum(0).tolist()\n",
    "    y[i].tolist()\n",
    "    print(X[i].sum(0).tolist(), y[i].tolist())\n",
    "x_range = range(RANGE)\n",
    "x_sums = [X[i].sum(0).tolist() for i in x_range]\n",
    "y_values = [y[i].tolist() for i in x_range]\n",
    "\n",
    "x_col1 = [x[0] for x in x_sums]\n",
    "x_col2 = [x[1] for x in x_sums]\n",
    "y_col1 = [1 if y == 0 else 0 for y in y_values]  # Soft blink (mapped from 0)\n",
    "y_col2 = [1 if y == 1 else 0 for y in y_values]  # Hard blink (mapped from 1)\n",
    "\n",
    "fig, axs = plt.subplots(2, 1, figsize=(12, 8), sharex=True)\n",
    "\n",
    "# Plot X values\n",
    "axs[0].plot(x_range, x_col1, label=\"Up Spike Density\", marker='o')\n",
    "axs[0].plot(x_range, x_col2, label=\"Down Spike Density\", marker='o')\n",
    "axs[0].set_ylabel(\"X Values\")\n",
    "axs[0].set_title(\"X[i] Sum\")\n",
    "axs[0].legend()\n",
    "axs[0].grid()\n",
    "\n",
    "# Plot Y values\n",
    "axs[1].plot(x_range, y_col1, label=\"Soft Blink Window\", marker='x')\n",
    "axs[1].plot(x_range, y_col2, label=\"Hard Blink window\", marker='x')\n",
    "axs[1].set_xlabel(\"Index\")\n",
    "axs[1].set_ylabel(\"Y Values\")\n",
    "axs[1].set_title(\"Y[i] Values\")\n",
    "axs[1].legend()\n",
    "axs[1].grid()\n",
    "\n",
    "plt.tight_layout()\n",
    "plt.show()"
   ]
  },
  {
   "cell_type": "markdown",
   "id": "f549932a",
   "metadata": {},
   "source": [
    "### Dataset & balanced sampler"
   ]
  },
  {
   "cell_type": "code",
   "execution_count": null,
   "id": "e01a0adc",
   "metadata": {},
   "outputs": [
    {
     "name": "stdout",
     "output_type": "stream",
     "text": [
      "Soft weights: 0.00390625\n",
      "Hard weights: 0.0028409091755747795\n",
      "None weights: 0.0009469697251915932\n"
     ]
    }
   ],
   "source": [
    "class BlinkDS(Dataset):\n",
    "    def __init__(self, X, y): self.X, self.y = X, y\n",
    "    def __len__(self): return len(self.X)\n",
    "    def __getitem__(self, i): return self.X[i], self.y[i]\n",
    "\n",
    "# 80 / 20 split\n",
    "perm = torch.randperm(len(X))\n",
    "split = int(0.8*len(X))\n",
    "train_idx, test_idx = perm[:split], perm[split:]\n",
    "ds_tr, ds_te = BlinkDS(X[train_idx], y[train_idx]), BlinkDS(X[test_idx], y[test_idx])\n",
    "# print(ds_tr.y.shape)\n",
    "# balance the positives\n",
    "is_soft = ds_tr.y==0 ; is_hard = ds_tr.y==1\n",
    "w_soft  = 0.25 / is_soft.sum()\n",
    "w_hard  = 0.25 / is_hard.sum()\n",
    "w_none  = 0.50 / (len(ds_tr)-is_soft.sum()-is_hard.sum())\n",
    "\n",
    "weights = torch.where(is_soft, w_soft, torch.where(is_hard, w_hard, w_none))\n",
    "sampler = WeightedRandomSampler(weights, num_samples=len(weights), replacement=True)\n",
    "\n",
    "ldr_tr = DataLoader(ds_tr, batch_size=BATCH, sampler=sampler)\n",
    "ldr_te = DataLoader(ds_te, batch_size=BATCH, shuffle=False)\n",
    "print(\"Soft weights:\", w_soft.item())\n",
    "print(\"Hard weights:\", w_hard.item())\n",
    "print(\"None weights:\", w_none.item())"
   ]
  },
  {
   "cell_type": "markdown",
   "id": "44dfbf4b",
   "metadata": {},
   "source": [
    "####  Build the 2-4-4-2 Izh network"
   ]
  },
  {
   "cell_type": "code",
   "execution_count": null,
   "id": "80ccc2b0",
   "metadata": {},
   "outputs": [],
   "source": [
    "def gen_seq_model(topo, neuron_layer, neuron_params={}, bias=False, quant_weights=False, quant_states=False):\n",
    "    state_quant = SF.quant.state_quant(num_bits=8, uniform=True, thr_centered=False) if quant_states else None\n",
    "    layers = []\n",
    "\n",
    "    neuron_layer_classes = {\n",
    "        'NormIzh': snn.NormIzh,\n",
    "        'Leaky': snn.Leaky,\n",
    "    }\n",
    "\n",
    "    if neuron_layer not in neuron_layer_classes:\n",
    "        raise ValueError(f\"Invalid neuron_layer '{neuron_layer}'. Available options: {list(neuron_layer_classes.keys())}\")\n",
    "\n",
    "    neuron_class = neuron_layer_classes[neuron_layer]\n",
    "\n",
    "    for i in range(len(topo) - 1):\n",
    "        if quant_weights:\n",
    "            layers.append(qnn.QuantLinear(\n",
    "                topo[i], topo[i + 1], bias=bias,\n",
    "                weight_quant=brevitas.quant.Int8WeightPerTensorFixedPoint, weight_bit_width=4))\n",
    "        else:\n",
    "            layers.append(nn.Linear(topo[i], topo[i + 1], bias=bias))\n",
    "\n",
    "        if i < len(topo) - 2:\n",
    "            layers.append(neuron_class(init_hidden=True, state_quant=state_quant, **neuron_params))\n",
    "\n",
    "    layers.append(neuron_class(init_hidden=True, output=True, state_quant=state_quant, **neuron_params))\n",
    "\n",
    "    return nn.Sequential(*layers)"
   ]
  },
  {
   "cell_type": "code",
   "execution_count": null,
   "id": "64074bcd",
   "metadata": {},
   "outputs": [
    {
     "name": "stdout",
     "output_type": "stream",
     "text": [
      "Added NormIzh() to instances: [NormIzh(), NormIzh(), NormIzh(), NormIzh(), NormIzh(), NormIzh(), NormIzh(), NormIzh(), NormIzh(), NormIzh(), NormIzh(), NormIzh(), NormIzh(), NormIzh(), NormIzh(), NormIzh()].\n",
      "Added NormIzh() to instances: [NormIzh(), NormIzh(), NormIzh(), NormIzh(), NormIzh(), NormIzh(), NormIzh(), NormIzh(), NormIzh(), NormIzh(), NormIzh(), NormIzh(), NormIzh(), NormIzh(), NormIzh(), NormIzh(), NormIzh()].\n",
      "Added NormIzh() to instances: [NormIzh(), NormIzh(), NormIzh(), NormIzh(), NormIzh(), NormIzh(), NormIzh(), NormIzh(), NormIzh(), NormIzh(), NormIzh(), NormIzh(), NormIzh(), NormIzh(), NormIzh(), NormIzh(), NormIzh(), NormIzh()].\n"
     ]
    }
   ],
   "source": [
    "topo = [2, 4, 4, 2]                          # ← requested topology\n",
    "model = gen_seq_model(\n",
    "    topo=topo,\n",
    "    neuron_layer='NormIzh',\n",
    "    neuron_params={'neuron_type': 'RS'},\n",
    "    bias=True,\n",
    "    quant_weights=False,\n",
    "    quant_states=False,\n",
    ").to(device)\n",
    "# model = snn.gen_seq_model(\n",
    "#             topo,\n",
    "#             neuron_layer=\"NormIzh\",\n",
    "#             neuron_params={\"neuron_type\":\"RS\"},\n",
    "#             bias=True).to(device)\n",
    "\n",
    "# Surrogate gradient already built-in to NormIzh\n"
   ]
  },
  {
   "cell_type": "markdown",
   "id": "b9866ea5",
   "metadata": {},
   "source": [
    "### Loss, optimiser, imbalance weights"
   ]
  },
  {
   "cell_type": "code",
   "execution_count": null,
   "id": "ecbdf731",
   "metadata": {},
   "outputs": [],
   "source": [
    "num_soft = int((ds_tr.y == 0).sum())  # Count occurrences of class 0 (soft blinks)\n",
    "num_hard = int((ds_tr.y == 1).sum())  # Count occurrences of class 1 (hard blinks)\n",
    "pos_w    = torch.tensor([len(ds_tr)/num_soft,\n",
    "                         len(ds_tr)/num_hard], device=device)\n",
    "loss_fn  = torch.nn.CrossEntropyLoss(weight=pos_w)  # Use CrossEntropyLoss for multi-class classification\n",
    "opt      = torch.optim.Adam(model.parameters(), lr=LR)\n"
   ]
  },
  {
   "cell_type": "code",
   "execution_count": null,
   "id": "328e92cf",
   "metadata": {},
   "outputs": [],
   "source": [
    "class_weights = torch.tensor([1.0, 1.0, 1.0], device=device)\n",
    "loss_fn = nn.CrossEntropyLoss(weight=class_weights)"
   ]
  },
  {
   "cell_type": "code",
   "execution_count": null,
   "id": "4d3a7aab",
   "metadata": {},
   "outputs": [
    {
     "name": "stdout",
     "output_type": "stream",
     "text": [
      "up/down counts : [0.0, 0.0]  target : 2\n",
      "up/down counts : [0.0, 0.0]  target : 2\n",
      "up/down counts : [0.0, 0.0]  target : 2\n",
      "up/down counts : [0.0, 0.0]  target : 2\n",
      "up/down counts : [2.0, 0.0]  target : 2\n",
      "up/down counts : [2.0, 0.0]  target : 2\n",
      "up/down counts : [2.0, 0.0]  target : 2\n",
      "up/down counts : [2.0, 0.0]  target : 2\n",
      "up/down counts : [0.0, 0.0]  target : 2\n",
      "up/down counts : [0.0, 0.0]  target : 2\n"
     ]
    }
   ],
   "source": [
    "for i in range(10):\n",
    "    print(\"up/down counts :\", X[i].sum(0).tolist(), \" target :\", y[i].tolist())"
   ]
  },
  {
   "cell_type": "markdown",
   "id": "51eef6a8",
   "metadata": {},
   "source": [
    "## Training loop"
   ]
  },
  {
   "cell_type": "code",
   "execution_count": null,
   "id": "7c2a1b40",
   "metadata": {},
   "outputs": [
    {
     "ename": "RuntimeError",
     "evalue": "weight tensor should be defined either for all 2 classes or no classes but got weight tensor of shape: [3]",
     "output_type": "error",
     "traceback": [
      "\u001b[31m---------------------------------------------------------------------------\u001b[39m",
      "\u001b[31mRuntimeError\u001b[39m                              Traceback (most recent call last)",
      "\u001b[36mCell\u001b[39m\u001b[36m \u001b[39m\u001b[32mIn[148]\u001b[39m\u001b[32m, line 24\u001b[39m\n\u001b[32m     22\u001b[39m     spk.append(out)\n\u001b[32m     23\u001b[39m logits = torch.stack(spk).sum(\u001b[32m0\u001b[39m)\n\u001b[32m---> \u001b[39m\u001b[32m24\u001b[39m bce  = \u001b[43mloss_fn\u001b[49m\u001b[43m(\u001b[49m\u001b[43mlogits\u001b[49m\u001b[43m,\u001b[49m\u001b[43m \u001b[49m\u001b[43myb\u001b[49m\u001b[43m.\u001b[49m\u001b[43mfloat\u001b[49m\u001b[43m(\u001b[49m\u001b[43m)\u001b[49m\u001b[43m)\u001b[49m\n\u001b[32m     25\u001b[39m l1   = \u001b[32m1e-4\u001b[39m * logits.abs().mean()\n\u001b[32m     26\u001b[39m loss = bce + l1\n",
      "\u001b[36mFile \u001b[39m\u001b[32mc:\\Users\\kaushikl\\OneDrive - University of Maryland\\UMD\\Project_Research\\SNN Training (Izh)\\backpropizh\\venv\\Lib\\site-packages\\torch\\nn\\modules\\module.py:1751\u001b[39m, in \u001b[36mModule._wrapped_call_impl\u001b[39m\u001b[34m(self, *args, **kwargs)\u001b[39m\n\u001b[32m   1749\u001b[39m     \u001b[38;5;28;01mreturn\u001b[39;00m \u001b[38;5;28mself\u001b[39m._compiled_call_impl(*args, **kwargs)  \u001b[38;5;66;03m# type: ignore[misc]\u001b[39;00m\n\u001b[32m   1750\u001b[39m \u001b[38;5;28;01melse\u001b[39;00m:\n\u001b[32m-> \u001b[39m\u001b[32m1751\u001b[39m     \u001b[38;5;28;01mreturn\u001b[39;00m \u001b[38;5;28;43mself\u001b[39;49m\u001b[43m.\u001b[49m\u001b[43m_call_impl\u001b[49m\u001b[43m(\u001b[49m\u001b[43m*\u001b[49m\u001b[43margs\u001b[49m\u001b[43m,\u001b[49m\u001b[43m \u001b[49m\u001b[43m*\u001b[49m\u001b[43m*\u001b[49m\u001b[43mkwargs\u001b[49m\u001b[43m)\u001b[49m\n",
      "\u001b[36mFile \u001b[39m\u001b[32mc:\\Users\\kaushikl\\OneDrive - University of Maryland\\UMD\\Project_Research\\SNN Training (Izh)\\backpropizh\\venv\\Lib\\site-packages\\torch\\nn\\modules\\module.py:1762\u001b[39m, in \u001b[36mModule._call_impl\u001b[39m\u001b[34m(self, *args, **kwargs)\u001b[39m\n\u001b[32m   1757\u001b[39m \u001b[38;5;66;03m# If we don't have any hooks, we want to skip the rest of the logic in\u001b[39;00m\n\u001b[32m   1758\u001b[39m \u001b[38;5;66;03m# this function, and just call forward.\u001b[39;00m\n\u001b[32m   1759\u001b[39m \u001b[38;5;28;01mif\u001b[39;00m \u001b[38;5;129;01mnot\u001b[39;00m (\u001b[38;5;28mself\u001b[39m._backward_hooks \u001b[38;5;129;01mor\u001b[39;00m \u001b[38;5;28mself\u001b[39m._backward_pre_hooks \u001b[38;5;129;01mor\u001b[39;00m \u001b[38;5;28mself\u001b[39m._forward_hooks \u001b[38;5;129;01mor\u001b[39;00m \u001b[38;5;28mself\u001b[39m._forward_pre_hooks\n\u001b[32m   1760\u001b[39m         \u001b[38;5;129;01mor\u001b[39;00m _global_backward_pre_hooks \u001b[38;5;129;01mor\u001b[39;00m _global_backward_hooks\n\u001b[32m   1761\u001b[39m         \u001b[38;5;129;01mor\u001b[39;00m _global_forward_hooks \u001b[38;5;129;01mor\u001b[39;00m _global_forward_pre_hooks):\n\u001b[32m-> \u001b[39m\u001b[32m1762\u001b[39m     \u001b[38;5;28;01mreturn\u001b[39;00m \u001b[43mforward_call\u001b[49m\u001b[43m(\u001b[49m\u001b[43m*\u001b[49m\u001b[43margs\u001b[49m\u001b[43m,\u001b[49m\u001b[43m \u001b[49m\u001b[43m*\u001b[49m\u001b[43m*\u001b[49m\u001b[43mkwargs\u001b[49m\u001b[43m)\u001b[49m\n\u001b[32m   1764\u001b[39m result = \u001b[38;5;28;01mNone\u001b[39;00m\n\u001b[32m   1765\u001b[39m called_always_called_hooks = \u001b[38;5;28mset\u001b[39m()\n",
      "\u001b[36mFile \u001b[39m\u001b[32mc:\\Users\\kaushikl\\OneDrive - University of Maryland\\UMD\\Project_Research\\SNN Training (Izh)\\backpropizh\\venv\\Lib\\site-packages\\torch\\nn\\modules\\loss.py:1297\u001b[39m, in \u001b[36mCrossEntropyLoss.forward\u001b[39m\u001b[34m(self, input, target)\u001b[39m\n\u001b[32m   1296\u001b[39m \u001b[38;5;28;01mdef\u001b[39;00m\u001b[38;5;250m \u001b[39m\u001b[34mforward\u001b[39m(\u001b[38;5;28mself\u001b[39m, \u001b[38;5;28minput\u001b[39m: Tensor, target: Tensor) -> Tensor:\n\u001b[32m-> \u001b[39m\u001b[32m1297\u001b[39m     \u001b[38;5;28;01mreturn\u001b[39;00m \u001b[43mF\u001b[49m\u001b[43m.\u001b[49m\u001b[43mcross_entropy\u001b[49m\u001b[43m(\u001b[49m\n\u001b[32m   1298\u001b[39m \u001b[43m        \u001b[49m\u001b[38;5;28;43minput\u001b[39;49m\u001b[43m,\u001b[49m\n\u001b[32m   1299\u001b[39m \u001b[43m        \u001b[49m\u001b[43mtarget\u001b[49m\u001b[43m,\u001b[49m\n\u001b[32m   1300\u001b[39m \u001b[43m        \u001b[49m\u001b[43mweight\u001b[49m\u001b[43m=\u001b[49m\u001b[38;5;28;43mself\u001b[39;49m\u001b[43m.\u001b[49m\u001b[43mweight\u001b[49m\u001b[43m,\u001b[49m\n\u001b[32m   1301\u001b[39m \u001b[43m        \u001b[49m\u001b[43mignore_index\u001b[49m\u001b[43m=\u001b[49m\u001b[38;5;28;43mself\u001b[39;49m\u001b[43m.\u001b[49m\u001b[43mignore_index\u001b[49m\u001b[43m,\u001b[49m\n\u001b[32m   1302\u001b[39m \u001b[43m        \u001b[49m\u001b[43mreduction\u001b[49m\u001b[43m=\u001b[49m\u001b[38;5;28;43mself\u001b[39;49m\u001b[43m.\u001b[49m\u001b[43mreduction\u001b[49m\u001b[43m,\u001b[49m\n\u001b[32m   1303\u001b[39m \u001b[43m        \u001b[49m\u001b[43mlabel_smoothing\u001b[49m\u001b[43m=\u001b[49m\u001b[38;5;28;43mself\u001b[39;49m\u001b[43m.\u001b[49m\u001b[43mlabel_smoothing\u001b[49m\u001b[43m,\u001b[49m\n\u001b[32m   1304\u001b[39m \u001b[43m    \u001b[49m\u001b[43m)\u001b[49m\n",
      "\u001b[36mFile \u001b[39m\u001b[32mc:\\Users\\kaushikl\\OneDrive - University of Maryland\\UMD\\Project_Research\\SNN Training (Izh)\\backpropizh\\venv\\Lib\\site-packages\\torch\\nn\\functional.py:3494\u001b[39m, in \u001b[36mcross_entropy\u001b[39m\u001b[34m(input, target, weight, size_average, ignore_index, reduce, reduction, label_smoothing)\u001b[39m\n\u001b[32m   3492\u001b[39m \u001b[38;5;28;01mif\u001b[39;00m size_average \u001b[38;5;129;01mis\u001b[39;00m \u001b[38;5;129;01mnot\u001b[39;00m \u001b[38;5;28;01mNone\u001b[39;00m \u001b[38;5;129;01mor\u001b[39;00m reduce \u001b[38;5;129;01mis\u001b[39;00m \u001b[38;5;129;01mnot\u001b[39;00m \u001b[38;5;28;01mNone\u001b[39;00m:\n\u001b[32m   3493\u001b[39m     reduction = _Reduction.legacy_get_string(size_average, reduce)\n\u001b[32m-> \u001b[39m\u001b[32m3494\u001b[39m \u001b[38;5;28;01mreturn\u001b[39;00m \u001b[43mtorch\u001b[49m\u001b[43m.\u001b[49m\u001b[43m_C\u001b[49m\u001b[43m.\u001b[49m\u001b[43m_nn\u001b[49m\u001b[43m.\u001b[49m\u001b[43mcross_entropy_loss\u001b[49m\u001b[43m(\u001b[49m\n\u001b[32m   3495\u001b[39m \u001b[43m    \u001b[49m\u001b[38;5;28;43minput\u001b[39;49m\u001b[43m,\u001b[49m\n\u001b[32m   3496\u001b[39m \u001b[43m    \u001b[49m\u001b[43mtarget\u001b[49m\u001b[43m,\u001b[49m\n\u001b[32m   3497\u001b[39m \u001b[43m    \u001b[49m\u001b[43mweight\u001b[49m\u001b[43m,\u001b[49m\n\u001b[32m   3498\u001b[39m \u001b[43m    \u001b[49m\u001b[43m_Reduction\u001b[49m\u001b[43m.\u001b[49m\u001b[43mget_enum\u001b[49m\u001b[43m(\u001b[49m\u001b[43mreduction\u001b[49m\u001b[43m)\u001b[49m\u001b[43m,\u001b[49m\n\u001b[32m   3499\u001b[39m \u001b[43m    \u001b[49m\u001b[43mignore_index\u001b[49m\u001b[43m,\u001b[49m\n\u001b[32m   3500\u001b[39m \u001b[43m    \u001b[49m\u001b[43mlabel_smoothing\u001b[49m\u001b[43m,\u001b[49m\n\u001b[32m   3501\u001b[39m \u001b[43m\u001b[49m\u001b[43m)\u001b[49m\n",
      "\u001b[31mRuntimeError\u001b[39m: weight tensor should be defined either for all 2 classes or no classes but got weight tensor of shape: [3]"
     ]
    },
    {
     "data": {
      "image/png": "[encoded data removed]",
      "text/plain": [
       "<Figure size 1000x500 with 2 Axes>"
      ]
     },
     "metadata": {},
     "output_type": "display_data"
    }
   ],
   "source": [
    "import torch\n",
    "import torch.nn.functional as F\n",
    "import matplotlib.pyplot as plt\n",
    "from IPython.display import display, clear_output\n",
    "\n",
    "plt.ion()\n",
    "fig, ax1 = plt.subplots(figsize=(10, 5))\n",
    "ax2 = ax1.twinx()  # Create a second y-axis\n",
    "\n",
    "train_losses = []\n",
    "val_accuracies = []\n",
    "val_confidences = []\n",
    "\n",
    "for epoch in range(EPOCHS):\n",
    "    model.train()\n",
    "    running_loss = 0\n",
    "    for Xb, yb in ldr_tr:\n",
    "        Xb = Xb.to(device)\n",
    "        yb = yb.to(device)\n",
    "        utils.reset(model)\n",
    "        spk = []\n",
    "        for t in range(Xb.size(1)):\n",
    "            out, *_ = model(Xb[:,t,:])\n",
    "            spk.append(out)\n",
    "        logits = torch.stack(spk).sum(0)\n",
    "        bce  = loss_fn(logits, yb.float())\n",
    "        l1   = 1e-4 * logits.abs().mean()\n",
    "        loss = bce + l1\n",
    "        opt.zero_grad(); loss.backward();\n",
    "        torch.nn.utils.clip_grad_norm_(model.parameters(), 1.0)\n",
    "        opt.step()\n",
    "        running_loss += loss.item()\n",
    "    train_losses.append(running_loss / len(ldr_tr))\n",
    "\n",
    "    # Validation\n",
    "    model.eval(); corr = tot = 0\n",
    "    confidences = []\n",
    "    with torch.no_grad():\n",
    "        for Xb, yb in ldr_te:\n",
    "            Xb = Xb.to(device)\n",
    "            utils.reset(model)\n",
    "            spk = []\n",
    "            for t in range(Xb.size(1)):\n",
    "                o, *_ = model(Xb[:,t,:])\n",
    "                spk.append(o)\n",
    "            logits = torch.stack(spk).sum(0)\n",
    "            probs = torch.sigmoid(logits)\n",
    "            # preds = (probs > THRESH_PROB).float()\n",
    "            # corr += (preds == yb.to(device)).all(1).sum().item()\n",
    "            # instead of threshold on sigmoid, just pick the larger spike‐count:\n",
    "            preds = torch.argmax(logits, dim=1)             # → 0 = soft, 1 = hard\n",
    "            labels = yb.argmax(dim=1).to(device)\n",
    "            corr += (preds == labels).sum().item()\n",
    "            tot += len(Xb)\n",
    "            confidences.extend(probs.max(dim=1)[0].cpu().numpy())\n",
    "    val_accuracies.append(corr / tot)\n",
    "    val_confidences.append(np.mean(confidences))\n",
    "    \n",
    "    # Live plot update\n",
    "    clear_output(wait=True)\n",
    "    ax1.cla()\n",
    "    ax2.cla()\n",
    "    epochs = range(1, len(train_losses) + 1)\n",
    "    # Plot loss on left y-axis\n",
    "    ax1.plot(epochs, train_losses, label=\"Loss\", color='red')\n",
    "    ax1.set_ylabel(\"Loss\", color='red')\n",
    "    ax1.tick_params(axis='y', labelcolor='red')\n",
    "    ax1.set_xlabel(\"Epochs\")\n",
    "    ax1.set_ylim(0, max(train_losses) * 1.1)\n",
    "    # Plot accuracy and confidence on right y-axis\n",
    "    ax2.plot(epochs, val_accuracies, label=\"Accuracy\", color='blue')\n",
    "    ax2.plot(epochs, val_confidences, label=\"Confidence\", color='green')\n",
    "    ax2.set_ylabel(\"Accuracy & Confidence\", color='blue')\n",
    "    ax2.tick_params(axis='y', labelcolor='blue')\n",
    "    # Legends\n",
    "    lines_1, labels_1 = ax1.get_legend_handles_labels()\n",
    "    lines_2, labels_2 = ax2.get_legend_handles_labels()\n",
    "    ax2.legend(lines_1 + lines_2, labels_1 + labels_2, loc='upper left')\n",
    "    ax1.set_title(\"Training Progress\")\n",
    "    ax1.grid(True)\n",
    "    plt.tight_layout()\n",
    "    display(fig)\n",
    "    plt.pause(0.01)\n",
    "    print(f\"Epoch {epoch:2d}  val-exact-acc  {corr/tot:.3f}\")\n",
    "\n",
    "plt.ioff()\n",
    "plt.show()"
   ]
  },
  {
   "cell_type": "markdown",
   "id": "f25c17c0",
   "metadata": {},
   "source": [
    "### Test Report"
   ]
  },
  {
   "cell_type": "code",
   "execution_count": null,
   "id": "2fa0a503",
   "metadata": {},
   "outputs": [],
   "source": [
    "y_true, y_pred = [], []\n",
    "model.eval(); torch.no_grad()\n",
    "for Xb,yb in ldr_te:\n",
    "    Xb = Xb.to(device)\n",
    "    utils.reset(model); spk=[]\n",
    "    for t in range(Xb.size(1)):\n",
    "        o,*_ = model(Xb[:,t,:]); spk.append(o)\n",
    "    logits = torch.stack(spk).sum(0)\n",
    "    probs  = torch.sigmoid(logits)\n",
    "    # preds  = (probs > THRESH_PROB).float()\n",
    "    preds = (torch.sigmoid(logits) > THRESH_PROB).float()\n",
    "    y_true.append(yb); y_pred.append(preds.cpu())\n",
    "\n",
    "print(classification_report(torch.cat(y_true),\n",
    "                            torch.cat(y_pred),\n",
    "                            target_names=[\"soft\", \"hard\"]))\n"
   ]
  },
  {
   "cell_type": "markdown",
   "id": "656c2887",
   "metadata": {},
   "source": [
    "### Inference on unseen data"
   ]
  },
  {
   "cell_type": "code",
   "execution_count": null,
   "id": "2a3631e9",
   "metadata": {},
   "outputs": [],
   "source": [
    "def predict_window(raw_up, raw_dn):\n",
    "    up  = (raw_up > THR_VOLT).astype(np.float32)\n",
    "    dn  = (raw_dn > THR_VOLT).astype(np.float32)\n",
    "    x   = torch.from_numpy(np.stack([up,dn],1)).unsqueeze(0).to(device)\n",
    "\n",
    "    utils.reset(model); spk=[]\n",
    "    for t in range(x.size(1)):\n",
    "        o,*_ = model(x[:,t,:]); spk.append(o)\n",
    "    logits = torch.stack(spk).sum(0)\n",
    "    probs  = torch.sigmoid(logits)[0]\n",
    "    if probs.max() < THRESH_PROB:\n",
    "        return \"no-blink\"\n",
    "    return \"soft\" if probs[0] > probs[1] else \"hard\"\n"
   ]
  }
 ],
 "metadata": {
  "kernelspec": {
   "display_name": "venv",
   "language": "python",
   "name": "python3"
  },
  "language_info": {
   "codemirror_mode": {
    "name": "ipython",
    "version": 3
   },
   "file_extension": ".py",
   "mimetype": "text/x-python",
   "name": "python",
   "nbconvert_exporter": "python",
   "pygments_lexer": "ipython3",
   "version": "3.11.9"
  }
 },
 "nbformat": 4,
 "nbformat_minor": 5
}
