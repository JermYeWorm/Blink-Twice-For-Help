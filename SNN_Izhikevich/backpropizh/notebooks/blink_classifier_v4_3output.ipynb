{
 "cells": [
  {
   "cell_type": "markdown",
   "id": "a8684fbb",
   "metadata": {},
   "source": [
    "# Two‑Stage Blink Classifier\n",
    "Skeleton notebook created 2025-05-15 14:07:12.703580"
   ]
  },
  {
   "cell_type": "markdown",
   "id": "c03a7726",
   "metadata": {},
   "source": [
    "### Imports\n",
    "Run once when starting/restarting"
   ]
  },
  {
   "cell_type": "code",
   "execution_count": 3,
   "id": "8c3bcf6e",
   "metadata": {},
   "outputs": [
    {
     "name": "stdout",
     "output_type": "stream",
     "text": [
      "device = cpu\n"
     ]
    }
   ],
   "source": [
    "import numpy as np, pandas as pd, torch\n",
    "from torch.utils.data import Dataset, DataLoader, random_split, WeightedRandomSampler\n",
    "import snntorch as snn\n",
    "from snntorch import utils\n",
    "from sklearn.metrics import classification_report\n",
    "device = torch.device(\"cuda\" if torch.cuda.is_available() else \"cpu\")\n",
    "\n",
    "import torch\n",
    "import torchdata\n",
    "import torch.nn as nn\n",
    "import torch.nn.functional as F\n",
    "from torchvision import datasets, transforms\n",
    "from torch.utils.data import random_split\n",
    "from torch.utils.data import DataLoader\n",
    "from torch.optim.lr_scheduler import ReduceLROnPlateau\n",
    "from torch.utils.data import DataLoader, Subset\n",
    "from torch.optim.lr_scheduler import ReduceLROnPlateau\n",
    "print(\"device =\", device)\n",
    "\n",
    "import random\n",
    "\n",
    "SEED = 42\n",
    "random.seed(SEED)\n",
    "np.random.seed(SEED)\n",
    "torch.manual_seed(SEED)\n",
    "torch.cuda.manual_seed(SEED)\n",
    "torch.cuda.manual_seed_all(SEED)\n",
    "torch.backends.cudnn.deterministic = True\n",
    "torch.backends.cudnn.benchmark     = False\n",
    "\n",
    "import brevitas\n",
    "import brevitas.nn as qnn\n"
   ]
  },
  {
   "cell_type": "markdown",
   "id": "2b2aa8b4",
   "metadata": {},
   "source": [
    "### Parameters\n",
    "Run once when starting/restarting"
   ]
  },
  {
   "cell_type": "code",
   "execution_count": 4,
   "id": "26048a46",
   "metadata": {},
   "outputs": [],
   "source": [
    "import numpy as np, pandas as pd, torch, snntorch as snn\n",
    "from torch.utils.data import Dataset, DataLoader, WeightedRandomSampler\n",
    "from snntorch import surrogate, utils\n",
    "from sklearn.metrics import classification_report\n",
    "device = torch.device(\"cuda\" if torch.cuda.is_available() else \"cpu\")\n",
    "\n",
    "CSV              = \"./data/DM_OUT_S14_50s-90s.csv\"\n",
    "SAMPLING_RATE_HZ = 256\n",
    "WIN_MS           = 60                               # 200-ms windows\n",
    "WIN              = int(WIN_MS/1000 * SAMPLING_RATE_HZ) #51.2 samples\n",
    "STRIDE           = WIN//8                          #  8.5 ms\n",
    "THR_VOLT         = 1.7                               # spike threshold\n",
    "BATCH            = 32\n",
    "EPOCHS           = 40\n",
    "LR               = 1e-4\n",
    "THRESH_PROB      = 0.30                              # decision cut-off"
   ]
  },
  {
   "cell_type": "code",
   "execution_count": 5,
   "id": "d88207c0",
   "metadata": {},
   "outputs": [
    {
     "data": {
      "image/png": "[encoded data removed]",
      "text/plain": [
       "<Figure size 640x480 with 1 Axes>"
      ]
     },
     "metadata": {},
     "output_type": "display_data"
    },
    {
     "name": "stdout",
     "output_type": "stream",
     "text": [
      "mean hard-spikes (blink windows): 1.4961861\n",
      "mean hard-spikes (no-blink)    : 0.0\n"
     ]
    }
   ],
   "source": [
    "import matplotlib.pyplot as plt\n",
    "import numpy as np\n",
    "\n",
    "start = 0\n",
    "multiplier = 1\n",
    "end = 200 * multiplier\n",
    "t = np.arange(end)/256     # first 2 000 samples\n",
    "df = pd.read_csv(CSV)\n",
    "plt.plot(t, df[\"/spk_up Y\"].iloc[:end], label=\"up\")\n",
    "plt.plot(t, df[\"/spk_down Y\"].iloc[:end], label=\"down\")\n",
    "plt.plot(t, df[\"/label Y\"].iloc[:end], label=\"label\")\n",
    "plt.legend(); plt.show()\n",
    "thr = 1.7\n",
    "# positive spikes  → likely *hard*\n",
    "spk_up_pos   = (df[\"/spk_up Y\"]   >  thr).astype(np.float32)\n",
    "spk_down_neg = (df[\"/spk_down Y\"] > thr).astype(np.float32)\n",
    "# everything else is zero\n",
    "win_hard = spk_up_pos[start:end].any()        # 1 if hard blink\n",
    "win_soft = spk_down_neg[start:end].any()      # 1 if soft blink\n",
    "blink = [(spk_up_pos[s:s+WIN_MS].any() or spk_down_neg[s:s+WIN_MS].any()) \n",
    "\t\t for s in range(0, len(spk_up_pos) - WIN_MS, STRIDE)]\n",
    "cnt_hard = [spk_up_pos[s:s+WIN_MS].sum() for s in range(0, len(spk_up_pos) - WIN_MS, STRIDE)]\n",
    "cnt_soft = [spk_down_neg[s:s+WIN_MS].sum() for s in range(0, len(spk_down_neg) - WIN_MS, STRIDE)]\n",
    "\n",
    "print(\"mean hard-spikes (blink windows):\", np.mean([c for c, t in zip(cnt_hard, blink) if t]))\n",
    "print(\"mean hard-spikes (no-blink)    :\", np.mean([c for c, t in zip(cnt_hard, blink) if not t]))"
   ]
  },
  {
   "cell_type": "markdown",
   "id": "1a2ee467",
   "metadata": {},
   "source": [
    "### Window Extraction\n",
    "Run once when starting/restarting or when WINDOW size is changed\n"
   ]
  },
  {
   "cell_type": "code",
   "execution_count": 6,
   "id": "fcb50a51",
   "metadata": {},
   "outputs": [
    {
     "name": "stdout",
     "output_type": "stream",
     "text": [
      "class counts: {0: 330, 1: 522, 2: 9023}\n"
     ]
    }
   ],
   "source": [
    "import numpy as np\n",
    "import torch\n",
    "\n",
    "df  = pd.read_csv(CSV)\n",
    "up  = (df[\"/spk_up Y\"].abs()   > THR_VOLT).astype(np.float32).to_numpy()\n",
    "dn  = (df[\"/spk_down Y\"].abs() > THR_VOLT).astype(np.float32).to_numpy()\n",
    "lab = df[\"/label Y\"].to_numpy()           # 0 | 1 | 2\n",
    "# LABEL_MARGIN = int(0.1 * SAMPLING_RATE_HZ)\n",
    "LABEL_MARGIN = WIN\n",
    "X_windows, y_labels = [], []\n",
    "for s in range(0, len(df) - WIN + 1, STRIDE):\n",
    "    e = s + WIN\n",
    "\n",
    "    # 1) build your [T,2] spike raster\n",
    "    x_win = np.stack([up[s:e], dn[s:e]], axis=1).astype(np.float32)\n",
    "\n",
    "    # 2) decide on the window label\n",
    "    ls = max(0, s - LABEL_MARGIN)\n",
    "    le = min(len(df), e + LABEL_MARGIN)\n",
    "    lab_max = lab[ls:le].max()\n",
    "\n",
    "    # map: 2 → soft (0), 1 → hard (1), else → no-blink (2)\n",
    "    if   lab_max == 2: label = 0 # soft\n",
    "    elif lab_max == 1: label = 1 # hard\n",
    "    else:              label = 2 # no-blink\n",
    "\n",
    "    X_windows.append(x_win)\n",
    "    y_labels.append(label)\n",
    "\n",
    "# stack into tensors\n",
    "X = torch.tensor(np.stack(X_windows))                  # shape [N, WIN, 2]\n",
    "y = torch.tensor(y_labels, dtype=torch.long)           # shape [N] with values 0/1/2\n",
    "\n",
    "# quick sanity check:\n",
    "unique, counts = np.unique(y.numpy(), return_counts=True)\n",
    "print(\"class counts:\", dict(zip(unique, counts)))\n"
   ]
  },
  {
   "cell_type": "markdown",
   "id": "022691db",
   "metadata": {},
   "source": [
    "## Window Visualisation"
   ]
  },
  {
   "cell_type": "code",
   "execution_count": 7,
   "id": "1f78a178",
   "metadata": {},
   "outputs": [
    {
     "data": {
      "image/png": "[encoded data removed]",
      "text/plain": [
       "<Figure size 1200x800 with 2 Axes>"
      ]
     },
     "metadata": {},
     "output_type": "display_data"
    }
   ],
   "source": [
    "RANGE = min(200, X.size(0))  # Ensure RANGE does not exceed the size of X\n",
    "\n",
    "x_range = range(RANGE)\n",
    "x_sums = [X[i].sum(0).tolist() for i in x_range]\n",
    "y_values = [y[i].item() for i in x_range]  # Access individual elements of y\n",
    "\n",
    "x_col1 = [x[0] for x in x_sums]\n",
    "x_col2 = [x[1] for x in x_sums]\n",
    "y_col1 = [1 if y_val == 0 else 0 for y_val in y_values]  # Soft blink (mapped from 0)\n",
    "y_col2 = [1 if y_val == 1 else 0 for y_val in y_values]  # Hard blink (mapped from 1)\n",
    "\n",
    "fig, axs = plt.subplots(2, 1, figsize=(12, 8), sharex=True)\n",
    "\n",
    "# Plot X values\n",
    "axs[0].plot(x_range, x_col1, label=\"Up Spike Density\", marker='o')\n",
    "axs[0].plot(x_range, x_col2, label=\"Down Spike Density\", marker='o')\n",
    "axs[0].set_ylabel(\"X Values\")\n",
    "axs[0].set_title(\"X[i] Sum\")\n",
    "axs[0].legend()\n",
    "axs[0].grid()\n",
    "\n",
    "# Plot Y values\n",
    "axs[1].plot(x_range, y_col1, label=\"Soft Blink Window\", marker='x')\n",
    "axs[1].plot(x_range, y_col2, label=\"Hard Blink window\", marker='x')\n",
    "axs[1].set_xlabel(\"Index\")\n",
    "axs[1].set_ylabel(\"Y Values\")\n",
    "axs[1].set_title(\"Y[i] Values\")\n",
    "axs[1].legend()\n",
    "axs[1].grid()\n",
    "\n",
    "plt.tight_layout()\n",
    "plt.show()"
   ]
  },
  {
   "cell_type": "markdown",
   "id": "44dfbf4b",
   "metadata": {},
   "source": [
    "####  Build the 2-4-4-2 Izh network\n",
    "Run once when starting/restarting\n"
   ]
  },
  {
   "cell_type": "code",
   "execution_count": 8,
   "id": "80ccc2b0",
   "metadata": {},
   "outputs": [],
   "source": [
    "def gen_seq_model(topo, neuron_layer, neuron_params={}, bias=False, quant_weights=False, quant_states=False):\n",
    "    state_quant = SF.quant.state_quant(num_bits=8, uniform=True, thr_centered=False) if quant_states else None\n",
    "    layers = []\n",
    "\n",
    "    neuron_layer_classes = {\n",
    "        'NormIzh': snn.NormIzh,\n",
    "        'Leaky': snn.Leaky,\n",
    "    }\n",
    "\n",
    "    if neuron_layer not in neuron_layer_classes:\n",
    "        raise ValueError(f\"Invalid neuron_layer '{neuron_layer}'. Available options: {list(neuron_layer_classes.keys())}\")\n",
    "\n",
    "    neuron_class = neuron_layer_classes[neuron_layer]\n",
    "\n",
    "    for i in range(len(topo) - 1):\n",
    "        if quant_weights:\n",
    "            layers.append(qnn.QuantLinear(\n",
    "                topo[i], topo[i + 1], bias=bias,\n",
    "                weight_quant=brevitas.quant.Int8WeightPerTensorFixedPoint, weight_bit_width=4))\n",
    "        else:\n",
    "            layers.append(nn.Linear(topo[i], topo[i + 1], bias=bias))\n",
    "\n",
    "        if i < len(topo) - 2:\n",
    "            layers.append(neuron_class(init_hidden=True, state_quant=state_quant, **neuron_params))\n",
    "\n",
    "    layers.append(neuron_class(init_hidden=True, output=True, state_quant=state_quant, **neuron_params))\n",
    "\n",
    "    return nn.Sequential(*layers)"
   ]
  },
  {
   "cell_type": "code",
   "execution_count": 9,
   "id": "64074bcd",
   "metadata": {},
   "outputs": [
    {
     "name": "stdout",
     "output_type": "stream",
     "text": [
      "Added NormIzh() to instances: [NormIzh()].\n",
      "Added NormIzh() to instances: [NormIzh(), NormIzh()].\n",
      "Added NormIzh() to instances: [NormIzh(), NormIzh(), NormIzh()].\n"
     ]
    }
   ],
   "source": [
    "topo = [2, 4, 4, 2]                          # ←N requested topology\n",
    "model = gen_seq_model(\n",
    "    topo=topo,\n",
    "    neuron_layer='NormIzh', # 'Leaky' or 'NormIzh'\n",
    "    neuron_params={'neuron_type': 'RS'},\n",
    "    bias=True,\n",
    "    quant_weights=False,\n",
    "    quant_states=False,\n",
    ").to(device)\n",
    "\n",
    "# lif_model = gen_seq_model(\n",
    "#     topo=topo,\n",
    "#     neuron_layer='Leaky',\n",
    "#     neuron_params={'beta': 0.9},\n",
    "#     bias=True,\n",
    "#     quant_weights=False,\n",
    "#     quant_states=False,\n",
    "# ).to(device)"
   ]
  },
  {
   "cell_type": "markdown",
   "id": "5231c2fe",
   "metadata": {},
   "source": [
    "### Dataset & balanced sampler - Trainloader"
   ]
  },
  {
   "cell_type": "code",
   "execution_count": 10,
   "id": "8c5cec85",
   "metadata": {},
   "outputs": [
    {
     "name": "stdout",
     "output_type": "stream",
     "text": [
      "Balanced class counts: [330 522 522]\n"
     ]
    }
   ],
   "source": [
    "import numpy as np\n",
    "\n",
    "# Convert to numpy for easy indexing\n",
    "X_np = X.numpy()\n",
    "y_np = y.numpy()\n",
    "\n",
    "# Indices for each class\n",
    "idx_soft = np.where(y_np == 0)[0]\n",
    "idx_hard = np.where(y_np == 1)[0]\n",
    "idx_none = np.where(y_np == 2)[0]\n",
    "\n",
    "# Downsample \"no-blink\" to match the largest minority class\n",
    "n_samples = max(len(idx_soft), len(idx_hard))\n",
    "np.random.seed(42)\n",
    "\n",
    "if len(idx_none) > 0:\n",
    "\tidx_none_down = np.random.choice(idx_none, size=n_samples, replace=False)\n",
    "\t# Combine indices and shuffle\n",
    "\tbalanced_idx = np.concatenate([idx_soft, idx_hard, idx_none_down])\n",
    "else:\n",
    "\tprint(\"Warning: 'no-blink' class is empty. Skipping downsampling for this class.\")\n",
    "\tbalanced_idx = np.concatenate([idx_soft, idx_hard])\n",
    "\n",
    "np.random.shuffle(balanced_idx)\n",
    "\n",
    "# Create balanced tensors\n",
    "X_bal = torch.tensor(X_np[balanced_idx])\n",
    "y_bal = torch.tensor(y_np[balanced_idx])\n",
    "\n",
    "print(\"Balanced class counts:\", np.bincount(y_bal.numpy()))"
   ]
  },
  {
   "cell_type": "code",
   "execution_count": 11,
   "id": "b15c2fb1",
   "metadata": {},
   "outputs": [],
   "source": [
    "class BlinkDS(Dataset):\n",
    "    def __init__(self, X, y): self.X, self.y = X, y\n",
    "    def __len__(self): return len(self.X)\n",
    "    def __getitem__(self, i): return self.X[i], self.y[i]\n",
    "\n",
    "# 80 / 20 split - generate train/test sets\n",
    "\n",
    "# Uncomment the next 4-line for unbalanced data\n",
    "# perm = torch.randperm(len(X)) \n",
    "# split = int(0.8*len(X)) \n",
    "# train_idx, test_idx = perm[:split], perm[split:]\n",
    "# ds_tr, ds_te = BlinkDS(X[train_idx], y[train_idx]), BlinkDS(X[test_idx], y[test_idx])\n",
    "\n",
    "# Uncomment the next 4-line for balanced data\n",
    "perm = torch.randperm(len(X_bal))   # For balanced data: use X_bal and y_bal\n",
    "split = int(0.8*len(X_bal))\n",
    "train_idx, test_idx = perm[:split], perm[split:]\n",
    "ds_tr, ds_te = BlinkDS(X_bal[train_idx], y_bal[train_idx]), BlinkDS(X_bal[test_idx], y_bal[test_idx])\n",
    "\n",
    "# WEIGHTS: balance the positives\n",
    "# is_soft = ds_tr.y==0 ; is_hard = ds_tr.y==1\n",
    "# w_soft  = 0.25 / is_soft.sum()\n",
    "# w_hard  = 0.25 / is_hard.sum()\n",
    "# w_none  = 0.50 / (len(ds_tr)-is_soft.sum()-is_hard.sum())\n"
   ]
  },
  {
   "cell_type": "markdown",
   "id": "c1c11ff0",
   "metadata": {},
   "source": [
    "### Weights: Loss, optimiser, imbalance weights"
   ]
  },
  {
   "cell_type": "markdown",
   "id": "983c9e29",
   "metadata": {},
   "source": [
    "Use the normalized or inverted weights to skew towards minority classes. Use direct weights to skew towards the majority class."
   ]
  },
  {
   "cell_type": "markdown",
   "id": "051e8956",
   "metadata": {},
   "source": [
    "Trying Focal Loss Model"
   ]
  },
  {
   "cell_type": "code",
   "execution_count": 12,
   "id": "ef62741d",
   "metadata": {},
   "outputs": [],
   "source": [
    "import torch\n",
    "import torch.nn as nn\n",
    "import torch.nn.functional as F\n",
    "\n",
    "class FocalLoss(nn.Module):\n",
    "    def __init__(self, alpha=None, gamma=2.0, reduction='mean'):\n",
    "        super().__init__()\n",
    "        self.gamma    = gamma\n",
    "        self.alpha    = alpha  # Tensor of shape [num_classes], or None\n",
    "        self.reduction = reduction\n",
    "\n",
    "    def forward(self, logits, targets):\n",
    "        # logits: [B, C], targets: [B] with ints in 0..C-1\n",
    "        ce_loss = F.cross_entropy(logits, targets, reduction='none')\n",
    "        pt      = torch.exp(-ce_loss)                  # pt = prob(correct)\n",
    "        loss    = (1 - pt)**self.gamma * ce_loss       # focal modulation\n",
    "\n",
    "        if self.alpha is not None:\n",
    "            # apply class-wise weighting\n",
    "            at = self.alpha.to(logits.device)\n",
    "            loss = loss * at[targets]\n",
    "\n",
    "        if self.reduction=='mean':\n",
    "            return loss.mean()\n",
    "        elif self.reduction=='sum':\n",
    "            return loss.sum()\n",
    "        else:\n",
    "            return loss\n"
   ]
  },
  {
   "cell_type": "code",
   "execution_count": 13,
   "id": "60ff79f6",
   "metadata": {},
   "outputs": [
    {
     "name": "stdout",
     "output_type": "stream",
     "text": [
      "Class counts: [330, 522, 522]\n",
      "Class weights: [1.5818181818181818, 1.0, 1.0]\n"
     ]
    }
   ],
   "source": [
    "## Worst-case example of class imbalance:\n",
    "# weights = torch.tensor([1.0, 1.0, 1.0], device=device) \n",
    "# counts = [sum(1 for label in y_bal if label == c) for c in range(3)]\n",
    "# weights = torch.tensor([2.1023257, 1.8677686, 1.0], device=device) # Skewed towards no-blink\n",
    "\n",
    "# # Normalize the class weights to sum=1 based on the counts (Works well for small labels i.e. soft, hard)\n",
    "# # y_labels is your list/array of ints in {0=soft,1=hard,2=no-blink}\n",
    "# counts = np.bincount(y_labels, minlength=3)      # e.g. [13,24,645]\n",
    "# inv_freq = 1.0 / counts                          # → [1/13, 1/24, 1/645]\n",
    "# weights  = inv_freq / inv_freq.sum()             # normalize to sum=1 (optional)\n",
    "\n",
    "# # Initialize count and weight arrays\n",
    "counts = [0] * 3\n",
    "weights = [0] * 3\n",
    "\n",
    "# Calculate class counts and weights\n",
    "# counts = [sum(1 for label in y_labels if label == c) for c in range(3)] # Uncomment for unbalanced data\n",
    "counts = [sum(1 for label in y_bal if label == c) for c in range(3)]\n",
    "max_count = max(counts)\n",
    "weights = [max_count / c if c > 0 else 0 for c in counts]  # avoid division by zero\n",
    "\n",
    "print(\"Class counts:\", counts)\n",
    "print(\"Class weights:\", weights)\n",
    "\n",
    "# Convert weights to a tensor and define the loss function\n",
    "class_weights = torch.tensor(weights, dtype=torch.float, device=device)\n",
    "loss_fn = nn.CrossEntropyLoss(weight=class_weights, label_smoothing=0.1)\n",
    "\n",
    "# Focal Loss with class weights\n",
    "# alpha = torch.tensor([1.0, 1.0, 1.5])   # soft, hard, no-blink\n",
    "# loss_fn = FocalLoss(alpha=alpha, gamma=2.0)\n"
   ]
  },
  {
   "cell_type": "markdown",
   "id": "e0ce9188",
   "metadata": {},
   "source": [
    "Complete the trainloader using the generated weights"
   ]
  },
  {
   "cell_type": "code",
   "execution_count": 14,
   "id": "4b0fc854",
   "metadata": {},
   "outputs": [],
   "source": [
    "\n",
    "# weights = torch.where(is_soft, w_soft, torch.where(is_hard, w_hard, w_none))\n",
    "sampler = WeightedRandomSampler(weights, num_samples=len(weights), replacement=True)\n",
    "\n",
    "ldr_tr = DataLoader(ds_tr, batch_size=BATCH, sampler=sampler)\n",
    "ldr_te = DataLoader(ds_te, batch_size=BATCH, shuffle=False)\n",
    "\n",
    "\n",
    "# print(\"Soft weights:\", w_soft.item())\n",
    "# print(\"Hard weights:\", w_hard.item())\n",
    "# print(\"None weights:\", w_none.item())"
   ]
  },
  {
   "cell_type": "markdown",
   "id": "004530c8",
   "metadata": {},
   "source": [
    "#### Run Only to Generate Weights"
   ]
  },
  {
   "cell_type": "code",
   "execution_count": 17,
   "id": "d77caad4",
   "metadata": {},
   "outputs": [
    {
     "name": "stderr",
     "output_type": "stream",
     "text": [
      "c:\\Users\\kaushikl\\OneDrive - University of Maryland\\UMD\\Project_Research\\SNN Training (Izh)\\backpropizh\\venv\\Lib\\site-packages\\torch\\utils\\data\\dataloader.py:665: UserWarning: 'pin_memory' argument is set as true but no accelerator is found, then device pinned memory won't be used.\n",
      "  warnings.warn(warn_msg)\n"
     ]
    },
    {
     "name": "stdout",
     "output_type": "stream",
     "text": [
      "Class counts: [0 0]\n",
      "Raw weights :  [nan nan]\n"
     ]
    },
    {
     "name": "stderr",
     "output_type": "stream",
     "text": [
      "C:\\Users\\kaushikl\\AppData\\Local\\Temp\\ipykernel_30852\\219586252.py:16: RuntimeWarning: invalid value encountered in divide\n",
      "  weights   = max_count / counts                  # e.g. [43, 26.9, 1.0]\n"
     ]
    },
    {
     "ename": "ValueError",
     "evalue": "num_samples should be a positive integer value, but got num_samples=0",
     "output_type": "error",
     "traceback": [
      "\u001b[31m---------------------------------------------------------------------------\u001b[39m",
      "\u001b[31mValueError\u001b[39m                                Traceback (most recent call last)",
      "\u001b[36mCell\u001b[39m\u001b[36m \u001b[39m\u001b[32mIn[17]\u001b[39m\u001b[32m, line 33\u001b[39m\n\u001b[32m     28\u001b[39m sample_weights = weights[y_train]               \u001b[38;5;66;03m# pick weight[c] for each sample’s class\u001b[39;00m\n\u001b[32m     29\u001b[39m sample_weights = torch.tensor(sample_weights,\n\u001b[32m     30\u001b[39m                               dtype=torch.double,\n\u001b[32m     31\u001b[39m                               device=device)\n\u001b[32m---> \u001b[39m\u001b[32m33\u001b[39m sampler = \u001b[43mWeightedRandomSampler\u001b[49m\u001b[43m(\u001b[49m\n\u001b[32m     34\u001b[39m \u001b[43m    \u001b[49m\u001b[43mweights\u001b[49m\u001b[43m=\u001b[49m\u001b[43msample_weights\u001b[49m\u001b[43m,\u001b[49m\n\u001b[32m     35\u001b[39m \u001b[43m    \u001b[49m\u001b[43mnum_samples\u001b[49m\u001b[43m=\u001b[49m\u001b[38;5;28;43mlen\u001b[39;49m\u001b[43m(\u001b[49m\u001b[43msample_weights\u001b[49m\u001b[43m)\u001b[49m\u001b[43m,\u001b[49m\n\u001b[32m     36\u001b[39m \u001b[43m    \u001b[49m\u001b[43mreplacement\u001b[49m\u001b[43m=\u001b[49m\u001b[38;5;28;43;01mTrue\u001b[39;49;00m\n\u001b[32m     37\u001b[39m \u001b[43m)\u001b[49m\n\u001b[32m     39\u001b[39m \u001b[38;5;66;03m# — 5) Rebuild your train_loader with the sampler —\u001b[39;00m\n\u001b[32m     40\u001b[39m ldr_tr = DataLoader(\n\u001b[32m     41\u001b[39m     y_train,\n\u001b[32m     42\u001b[39m     batch_size=BATCH,\n\u001b[32m   (...)\u001b[39m\u001b[32m     46\u001b[39m     pin_memory=\u001b[38;5;28;01mTrue\u001b[39;00m\n\u001b[32m     47\u001b[39m )\n",
      "\u001b[36mFile \u001b[39m\u001b[32mc:\\Users\\kaushikl\\OneDrive - University of Maryland\\UMD\\Project_Research\\SNN Training (Izh)\\backpropizh\\venv\\Lib\\site-packages\\torch\\utils\\data\\sampler.py:255\u001b[39m, in \u001b[36mWeightedRandomSampler.__init__\u001b[39m\u001b[34m(self, weights, num_samples, replacement, generator)\u001b[39m\n\u001b[32m    243\u001b[39m \u001b[38;5;28;01mdef\u001b[39;00m\u001b[38;5;250m \u001b[39m\u001b[34m__init__\u001b[39m(\n\u001b[32m    244\u001b[39m     \u001b[38;5;28mself\u001b[39m,\n\u001b[32m    245\u001b[39m     weights: Sequence[\u001b[38;5;28mfloat\u001b[39m],\n\u001b[32m   (...)\u001b[39m\u001b[32m    248\u001b[39m     generator=\u001b[38;5;28;01mNone\u001b[39;00m,\n\u001b[32m    249\u001b[39m ) -> \u001b[38;5;28;01mNone\u001b[39;00m:\n\u001b[32m    250\u001b[39m     \u001b[38;5;28;01mif\u001b[39;00m (\n\u001b[32m    251\u001b[39m         \u001b[38;5;129;01mnot\u001b[39;00m \u001b[38;5;28misinstance\u001b[39m(num_samples, \u001b[38;5;28mint\u001b[39m)\n\u001b[32m    252\u001b[39m         \u001b[38;5;129;01mor\u001b[39;00m \u001b[38;5;28misinstance\u001b[39m(num_samples, \u001b[38;5;28mbool\u001b[39m)\n\u001b[32m    253\u001b[39m         \u001b[38;5;129;01mor\u001b[39;00m num_samples <= \u001b[32m0\u001b[39m\n\u001b[32m    254\u001b[39m     ):\n\u001b[32m--> \u001b[39m\u001b[32m255\u001b[39m         \u001b[38;5;28;01mraise\u001b[39;00m \u001b[38;5;167;01mValueError\u001b[39;00m(\n\u001b[32m    256\u001b[39m             \u001b[33mf\u001b[39m\u001b[33m\"\u001b[39m\u001b[33mnum_samples should be a positive integer value, but got num_samples=\u001b[39m\u001b[38;5;132;01m{\u001b[39;00mnum_samples\u001b[38;5;132;01m}\u001b[39;00m\u001b[33m\"\u001b[39m\n\u001b[32m    257\u001b[39m         )\n\u001b[32m    258\u001b[39m     \u001b[38;5;28;01mif\u001b[39;00m \u001b[38;5;129;01mnot\u001b[39;00m \u001b[38;5;28misinstance\u001b[39m(replacement, \u001b[38;5;28mbool\u001b[39m):\n\u001b[32m    259\u001b[39m         \u001b[38;5;28;01mraise\u001b[39;00m \u001b[38;5;167;01mValueError\u001b[39;00m(\n\u001b[32m    260\u001b[39m             \u001b[33mf\u001b[39m\u001b[33m\"\u001b[39m\u001b[33mreplacement should be a boolean value, but got replacement=\u001b[39m\u001b[38;5;132;01m{\u001b[39;00mreplacement\u001b[38;5;132;01m}\u001b[39;00m\u001b[33m\"\u001b[39m\n\u001b[32m    261\u001b[39m         )\n",
      "\u001b[31mValueError\u001b[39m: num_samples should be a positive integer value, but got num_samples=0"
     ]
    }
   ],
   "source": [
    "import numpy as np\n",
    "import torch\n",
    "import torch.nn as nn\n",
    "from torch.utils.data import DataLoader, WeightedRandomSampler\n",
    "\n",
    "# — 1) Gather your integer labels from the train dataset —\n",
    "#    Assumes train_dataset[i] → (X[i], y[i]) where y[i] ∈ {0,1,2}\n",
    "y_list = []\n",
    "for Xb, yb in ldr_tr:\n",
    "    y_list.extend(yb.cpu().numpy())\n",
    "y_train = np.array(y_list, dtype=int)\n",
    "\n",
    "# — 2) Compute class counts and max–count weights —\n",
    "counts    = np.bincount(y_train, minlength=2)   # e.g. [#soft, #hard, #no-blink]\n",
    "max_count = counts.max()                       # the size of the largest class\n",
    "weights   = max_count / counts                  # e.g. [43, 26.9, 1.0]\n",
    "print(\"Class counts:\", counts)\n",
    "print(\"Raw weights : \", weights)\n",
    "\n",
    "# turn into a torch tensor on your device\n",
    "class_weights = torch.tensor(weights, dtype=torch.float, device=device)\n",
    "\n",
    "# — 3) Plug into CrossEntropyLoss —\n",
    "loss_fn = nn.CrossEntropyLoss(weight=class_weights)\n",
    "\n",
    "# — 4) Also build per-sample weights for oversampling —\n",
    "#    so that your DataLoader draws from minority classes more often:\n",
    "sample_weights = weights[y_train]               # pick weight[c] for each sample’s class\n",
    "sample_weights = torch.tensor(sample_weights,\n",
    "                              dtype=torch.double,\n",
    "                              device=device)\n",
    "\n",
    "sampler = WeightedRandomSampler(\n",
    "    weights=sample_weights,\n",
    "    num_samples=len(sample_weights),\n",
    "    replacement=True\n",
    ")\n",
    "\n",
    "# — 5) Rebuild your train_loader with the sampler —\n",
    "ldr_tr = DataLoader(\n",
    "    y_train,\n",
    "    batch_size=BATCH,\n",
    "    sampler=sampler,\n",
    "    drop_last=True,\n",
    "    num_workers=4,\n",
    "    pin_memory=True\n",
    ")\n",
    "\n",
    "# validation / test loaders stay the same:\n",
    "# val_loader = DataLoader(val_dataset, batch_size=BATCH_SIZE, shuffle=False, ...)\n",
    "# test_loader = ...\n",
    "\n",
    "print(\"Using class_weights:\", class_weights.cpu().numpy())\n"
   ]
  },
  {
   "cell_type": "markdown",
   "id": "51eef6a8",
   "metadata": {},
   "source": [
    "## Training loop"
   ]
  },
  {
   "cell_type": "code",
   "execution_count": 16,
   "id": "7c2a1b40",
   "metadata": {},
   "outputs": [
    {
     "name": "stderr",
     "output_type": "stream",
     "text": [
      "c:\\Users\\kaushikl\\OneDrive - University of Maryland\\UMD\\Project_Research\\SNN Training (Izh)\\backpropizh\\venv\\Lib\\site-packages\\torch\\utils\\data\\dataloader.py:665: UserWarning: 'pin_memory' argument is set as true but no accelerator is found, then device pinned memory won't be used.\n",
      "  warnings.warn(warn_msg)\n"
     ]
    },
    {
     "ename": "ZeroDivisionError",
     "evalue": "float division by zero",
     "output_type": "error",
     "traceback": [
      "\u001b[31m---------------------------------------------------------------------------\u001b[39m",
      "\u001b[31mZeroDivisionError\u001b[39m                         Traceback (most recent call last)",
      "\u001b[36mCell\u001b[39m\u001b[36m \u001b[39m\u001b[32mIn[16]\u001b[39m\u001b[32m, line 63\u001b[39m\n\u001b[32m     60\u001b[39m     running_corr += (preds == yb).sum().item()\n\u001b[32m     61\u001b[39m     running_tot  += Xb.size(\u001b[32m0\u001b[39m)\n\u001b[32m---> \u001b[39m\u001b[32m63\u001b[39m train_losses.append(\u001b[43mrunning_loss\u001b[49m\u001b[43m \u001b[49m\u001b[43m/\u001b[49m\u001b[43m \u001b[49m\u001b[43mrunning_tot\u001b[49m)\n\u001b[32m     65\u001b[39m \u001b[38;5;66;03m# ——— VALIDATION ———\u001b[39;00m\n\u001b[32m     66\u001b[39m model.eval()\n",
      "\u001b[31mZeroDivisionError\u001b[39m: float division by zero"
     ]
    },
    {
     "data": {
      "image/png": "[encoded data removed]",
      "text/plain": [
       "<Figure size 1000x500 with 2 Axes>"
      ]
     },
     "metadata": {},
     "output_type": "display_data"
    }
   ],
   "source": [
    "import torch\n",
    "import torch.nn.functional as F\n",
    "import matplotlib.pyplot as plt\n",
    "from IPython.display import display, clear_output\n",
    "\n",
    "plt.ion()\n",
    "fig, ax1 = plt.subplots(figsize=(10, 5))\n",
    "ax2 = ax1.twinx()\n",
    "\n",
    "train_losses    = []\n",
    "val_accuracies  = []\n",
    "val_confidences = []\n",
    "\n",
    "# Define the optimizer\n",
    "opt = torch.optim.Adam(model.parameters(), lr=1e-3)\n",
    "\n",
    "for epoch in range(1, EPOCHS+1):\n",
    "    model.train()\n",
    "    running_loss = 0.0\n",
    "    running_corr = 0\n",
    "    running_tot  = 0\n",
    "    \n",
    "for epoch in range(1, EPOCHS+1):\n",
    "    model.train()\n",
    "    running_loss = 0.0\n",
    "    running_corr = 0\n",
    "    running_tot  = 0\n",
    "\n",
    "    # ——— TRAINING ———\n",
    "    # for Xb, yb in ldr_tr:\n",
    "    for Xb, yb in ldr_tr:\n",
    "        Xb, yb = Xb.to(device), yb.to(device)        # yb is LongTensor [B]\n",
    "\n",
    "        utils.reset(model)\n",
    "        spk = []\n",
    "        for t in range(Xb.size(1)):\n",
    "            out, *_ = model(Xb[:,t,:])\n",
    "            spk.append(out)\n",
    "        logits = torch.stack(spk).sum(0)             # [B, 3]\n",
    "        \n",
    "        # ---- key change: use CrossEntropyLoss on integer labels ----\n",
    "        \n",
    "        # Ensure target values are within bounds\n",
    "        yb = torch.clamp(yb, 0, logits.size(1) - 1)\n",
    "        # Adjust the weight tensor to match the number of classes in logits\n",
    "        if loss_fn.weight is not None and loss_fn.weight.size(0) != logits.size(1):\n",
    "            loss_fn.weight = None  # Reset weight if it doesn't match the number of classes\n",
    "\n",
    "        ce_loss = loss_fn(logits, yb)               # loss_fn = nn.CrossEntropyLoss()\n",
    "        l1_reg  = 1e-4 * logits.abs().mean()        # optional L1 on logits\n",
    "        loss    = ce_loss + l1_reg\n",
    "\n",
    "        opt.zero_grad()\n",
    "        loss.backward()\n",
    "        torch.nn.utils.clip_grad_norm_(model.parameters(), 1.0)\n",
    "        opt.step()\n",
    "\n",
    "        running_loss += loss.item() * Xb.size(0)\n",
    "        preds = logits.argmax(dim=1)                # [B]\n",
    "        running_corr += (preds == yb).sum().item()\n",
    "        running_tot  += Xb.size(0)\n",
    "\n",
    "    train_losses.append(running_loss / running_tot)\n",
    "\n",
    "    # ——— VALIDATION ———\n",
    "    model.eval()\n",
    "    corr = tot = 0\n",
    "    confidences = []\n",
    "\n",
    "    with torch.no_grad():\n",
    "        for Xb, yb in ldr_te:\n",
    "            Xb, yb = Xb.to(device), yb.to(device)\n",
    "            utils.reset(model)\n",
    "\n",
    "            spk = []\n",
    "            for t in range(Xb.size(1)):\n",
    "                out, *_ = model(Xb[:,t,:])\n",
    "                spk.append(out)\n",
    "            logits = torch.stack(spk).sum(0)\n",
    "\n",
    "            # softmax → probabilities, pick max as “confidence”\n",
    "            probs = F.softmax(logits, dim=1)\n",
    "            conf_batch = probs.max(dim=1)[0].cpu().numpy()\n",
    "            confidences.extend(conf_batch)\n",
    "\n",
    "            preds = probs.argmax(dim=1)\n",
    "            corr += (preds == yb).sum().item()\n",
    "            tot  += Xb.size(0)\n",
    "\n",
    "    val_accuracies.append(corr / tot)\n",
    "    val_confidences.append(float(np.mean(confidences)))\n",
    "\n",
    "    # ——— live plot ———\n",
    "    clear_output(wait=True)\n",
    "    ax1.cla(); ax2.cla()\n",
    "    epochs = list(range(1, len(train_losses)+1))\n",
    "\n",
    "    ax1.plot(epochs, train_losses, label=\"Train Loss\", color='tab:red')\n",
    "    ax1.set_xlabel(\"Epoch\")\n",
    "    ax1.set_ylabel(\"Loss\", color='tab:red')\n",
    "    ax1.tick_params(axis='y', labelcolor='tab:red')\n",
    "\n",
    "    ax2.plot(epochs, val_accuracies,  label=\"Val Acc\",  color='tab:blue')\n",
    "    ax2.plot(epochs, val_confidences, label=\"Val Conf\", color='tab:green')\n",
    "    ax2.set_ylabel(\"Accuracy/Confidence\", color='tab:blue')\n",
    "    ax2.tick_params(axis='y', labelcolor='tab:blue')\n",
    "\n",
    "    # combined legend\n",
    "    l1, lb1 = ax1.get_legend_handles_labels()\n",
    "    l2, lb2 = ax2.get_legend_handles_labels()\n",
    "    ax2.legend(l1 + l2, lb1 + lb2, loc='upper left')\n",
    "\n",
    "    ax1.set_title(f\"Epoch {epoch:2d}: val-acc={corr/tot:.3f}\")\n",
    "    plt.tight_layout()\n",
    "    display(fig)\n",
    "    plt.pause(0.01)\n",
    "\n",
    "plt.ioff()\n",
    "plt.show()\n"
   ]
  },
  {
   "cell_type": "markdown",
   "id": "f25c17c0",
   "metadata": {},
   "source": [
    "### Test Report"
   ]
  },
  {
   "cell_type": "code",
   "execution_count": null,
   "id": "2fa0a503",
   "metadata": {},
   "outputs": [
    {
     "ename": "NameError",
     "evalue": "name 'model' is not defined",
     "output_type": "error",
     "traceback": [
      "\u001b[31m---------------------------------------------------------------------------\u001b[39m",
      "\u001b[31mNameError\u001b[39m                                 Traceback (most recent call last)",
      "\u001b[36mCell\u001b[39m\u001b[36m \u001b[39m\u001b[32mIn[1]\u001b[39m\u001b[32m, line 6\u001b[39m\n\u001b[32m      3\u001b[39m \u001b[38;5;28;01mfrom\u001b[39;00m\u001b[38;5;250m \u001b[39m\u001b[34;01msklearn\u001b[39;00m\u001b[34;01m.\u001b[39;00m\u001b[34;01mmetrics\u001b[39;00m\u001b[38;5;250m \u001b[39m\u001b[38;5;28;01mimport\u001b[39;00m classification_report, confusion_matrix\n\u001b[32m      5\u001b[39m \u001b[38;5;66;03m# 1) switch to eval mode\u001b[39;00m\n\u001b[32m----> \u001b[39m\u001b[32m6\u001b[39m \u001b[43mmodel\u001b[49m.eval()\n\u001b[32m      8\u001b[39m all_labels = []  \u001b[38;5;66;03m# true class indices\u001b[39;00m\n\u001b[32m      9\u001b[39m all_preds  = []  \u001b[38;5;66;03m# predicted class indices\u001b[39;00m\n",
      "\u001b[31mNameError\u001b[39m: name 'model' is not defined"
     ]
    }
   ],
   "source": [
    "import numpy as np\n",
    "import torch\n",
    "from sklearn.metrics import classification_report, confusion_matrix\n",
    "\n",
    "# 1) switch to eval mode\n",
    "model.eval()\n",
    "\n",
    "all_labels = []  # true class indices\n",
    "all_preds  = []  # predicted class indices\n",
    "test_loader = DataLoader(ds_te, batch_size=32, shuffle=False)\n",
    "# 2) no gradients needed\n",
    "with torch.no_grad():\n",
    "    for Xb, yb in test_loader:\n",
    "        # move to device\n",
    "        Xb, yb = Xb.to(device), yb.to(device)   # yb.shape = [B], dtype=torch.long\n",
    "        \n",
    "        # reset any internal state if needed\n",
    "        utils.reset(model)\n",
    "        \n",
    "        # 3) accumulate spikes over time\n",
    "        spk = []\n",
    "        for t in range(Xb.size(1)):\n",
    "            out, *_ = model(Xb[:, t, :])\n",
    "            spk.append(out)\n",
    "        logits = torch.stack(spk).sum(0)         # shape [B, 3]\n",
    "        \n",
    "        # 4) pick the highest‐scoring class\n",
    "        preds = logits.argmax(dim=1)             # shape [B]\n",
    "        \n",
    "        # collect\n",
    "        all_preds.extend(preds.cpu().numpy())\n",
    "        all_labels.extend(yb.cpu().numpy())\n",
    "\n",
    "# convert to numpy arrays\n",
    "y_true_idx = np.array(all_labels, dtype=int)\n",
    "y_pred_idx = np.array(all_preds,  dtype=int)\n",
    "\n",
    "# 5) print multiclass report\n",
    "print(\"Classification Report:\\n\", \n",
    "      classification_report(\n",
    "          y_true_idx, y_pred_idx,\n",
    "          target_names=['soft', 'hard', 'no-blink'],\n",
    "          zero_division=0\n",
    "      ))\n",
    "\n",
    "print(\"Confusion Matrix:\\n\", confusion_matrix(y_true_idx, y_pred_idx))\n"
   ]
  },
  {
   "cell_type": "markdown",
   "id": "36bb06f5",
   "metadata": {},
   "source": [
    "## Confusion matrix"
   ]
  },
  {
   "cell_type": "code",
   "execution_count": null,
   "id": "5b56edd1",
   "metadata": {},
   "outputs": [],
   "source": [
    "import seaborn as sns\n",
    "import matplotlib.pyplot as plt\n",
    "from sklearn.metrics import confusion_matrix\n",
    "\n",
    "# Compute confusion matrix\n",
    "cm = confusion_matrix(y_true_idx, y_pred_idx)\n",
    "labels = ['soft', 'hard', 'no-blink']\n",
    "\n",
    "plt.figure(figsize=(6,5))\n",
    "sns.heatmap(cm, annot=True, fmt='d', cmap='Blues', \n",
    "            xticklabels=labels, yticklabels=labels, cbar=False)\n",
    "plt.xlabel('Predicted')\n",
    "plt.ylabel('Actual')\n",
    "plt.title('Confusion Matrix')\n",
    "plt.tight_layout()\n",
    "plt.show()"
   ]
  },
  {
   "cell_type": "markdown",
   "id": "49c5f903",
   "metadata": {},
   "source": [
    "## Weights Visualisation\n"
   ]
  },
  {
   "cell_type": "code",
   "execution_count": null,
   "id": "27eec6a2",
   "metadata": {},
   "outputs": [
    {
     "ename": "NameError",
     "evalue": "name 'model' is not defined",
     "output_type": "error",
     "traceback": [
      "\u001b[31m---------------------------------------------------------------------------\u001b[39m",
      "\u001b[31mNameError\u001b[39m                                 Traceback (most recent call last)",
      "\u001b[36mCell\u001b[39m\u001b[36m \u001b[39m\u001b[32mIn[2]\u001b[39m\u001b[32m, line 5\u001b[39m\n\u001b[32m      2\u001b[39m \u001b[38;5;28;01mimport\u001b[39;00m\u001b[38;5;250m \u001b[39m\u001b[34;01mseaborn\u001b[39;00m\u001b[38;5;250m \u001b[39m\u001b[38;5;28;01mas\u001b[39;00m\u001b[38;5;250m \u001b[39m\u001b[34;01msns\u001b[39;00m\n\u001b[32m      4\u001b[39m \u001b[38;5;66;03m# Find all Linear layers in your model\u001b[39;00m\n\u001b[32m----> \u001b[39m\u001b[32m5\u001b[39m linear_layers = [layer \u001b[38;5;28;01mfor\u001b[39;00m layer \u001b[38;5;129;01min\u001b[39;00m \u001b[43mmodel\u001b[49m \u001b[38;5;28;01mif\u001b[39;00m \u001b[38;5;28misinstance\u001b[39m(layer, (nn.Linear, qnn.QuantLinear))]\n\u001b[32m      7\u001b[39m layer_names = [\u001b[33m\"\u001b[39m\u001b[33mInput→Hidden1\u001b[39m\u001b[33m\"\u001b[39m, \u001b[33m\"\u001b[39m\u001b[33mHidden1→Hidden2\u001b[39m\u001b[33m\"\u001b[39m, \u001b[33m\"\u001b[39m\u001b[33mHidden2→Output\u001b[39m\u001b[33m\"\u001b[39m]\n\u001b[32m      8\u001b[39m \u001b[38;5;28;01mfor\u001b[39;00m idx, (layer, name) \u001b[38;5;129;01min\u001b[39;00m \u001b[38;5;28menumerate\u001b[39m(\u001b[38;5;28mzip\u001b[39m(linear_layers, layer_names)):\n",
      "\u001b[31mNameError\u001b[39m: name 'model' is not defined"
     ]
    }
   ],
   "source": [
    "import matplotlib.pyplot as plt\n",
    "import seaborn as sns\n",
    "\n",
    "# Find all Linear layers in your model\n",
    "linear_layers = [layer for layer in model if isinstance(layer, (nn.Linear, qnn.QuantLinear))]\n",
    "\n",
    "layer_names = [\"Input→Hidden1\", \"Hidden1→Hidden2\", \"Hidden2→Output\"]\n",
    "for idx, (layer, name) in enumerate(zip(linear_layers, layer_names)):\n",
    "    weights = layer.weight.data.cpu().numpy()\n",
    "    plt.figure(figsize=(6,4))\n",
    "    sns.heatmap(weights, annot=True, cmap=\"coolwarm\", cbar=True, fmt=\".2f\")\n",
    "    plt.title(f\"Weights: {name} (shape {weights.shape})\")\n",
    "    plt.xlabel(\"From neuron\")\n",
    "    plt.ylabel(\"To neuron\")\n",
    "    plt.show()"
   ]
  },
  {
   "cell_type": "markdown",
   "id": "656c2887",
   "metadata": {},
   "source": [
    "### Inference on unseen data"
   ]
  },
  {
   "cell_type": "code",
   "execution_count": null,
   "id": "2a3631e9",
   "metadata": {},
   "outputs": [],
   "source": [
    "def predict_window(raw_up, raw_dn):\n",
    "    up  = (raw_up > THR_VOLT).astype(np.float32)\n",
    "    dn  = (raw_dn > THR_VOLT).astype(np.float32)\n",
    "    x   = torch.from_numpy(np.stack([up,dn],1)).unsqueeze(0).to(device)\n",
    "\n",
    "    utils.reset(model); spk=[]\n",
    "    for t in range(x.size(1)):\n",
    "        o,*_ = model(x[:,t,:]); spk.append(o)\n",
    "    logits = torch.stack(spk).sum(0)\n",
    "    probs  = torch.sigmoid(logits)[0]\n",
    "    if probs.max() < THRESH_PROB:\n",
    "        return \"no-blink\"\n",
    "    return \"soft\" if probs[0] > probs[1] else \"hard\"\n"
   ]
  }
 ],
 "metadata": {
  "kernelspec": {
   "display_name": "venv",
   "language": "python",
   "name": "python3"
  },
  "language_info": {
   "codemirror_mode": {
    "name": "ipython",
    "version": 3
   },
   "file_extension": ".py",
   "mimetype": "text/x-python",
   "name": "python",
   "nbconvert_exporter": "python",
   "pygments_lexer": "ipython3",
   "version": "3.11.9"
  }
 },
 "nbformat": 4,
 "nbformat_minor": 5
}
